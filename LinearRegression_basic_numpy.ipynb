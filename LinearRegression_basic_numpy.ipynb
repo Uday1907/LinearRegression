{
 "cells": [
  {
   "cell_type": "code",
   "execution_count": 1,
   "id": "a40a8964-368f-4e69-99e5-9d5fbadd4f0d",
   "metadata": {},
   "outputs": [],
   "source": [
    "import numpy as np\n",
    "import matplotlib.pyplot as plt"
   ]
  },
  {
   "cell_type": "code",
   "execution_count": 2,
   "id": "db4c300e-d395-4129-8547-f217ca76e0b6",
   "metadata": {},
   "outputs": [],
   "source": [
    "def compute_cost(x,y,w,b):\n",
    "    m=x.shape[0]\n",
    "    cost=0;\n",
    "    for i in range(m):\n",
    "        f_wb=w*x[i]+b\n",
    "        cost+=(f_wb-y[i])**2\n",
    "    tc=cost/(2*m)\n",
    "    return tc"
   ]
  },
  {
   "cell_type": "code",
   "execution_count": 3,
   "id": "5923fcba-32e6-43af-b8e8-272e51348e48",
   "metadata": {},
   "outputs": [],
   "source": [
    "def compute_gradient(x,y,w,b):\n",
    "    m=x.shape[0]\n",
    "    dj_dw=0.0\n",
    "    dj_db=0.0\n",
    "    for i in range(m):\n",
    "        f_wb=w*x[i]+b\n",
    "        dj_dw+=((f_wb-y[i])*x[i])\n",
    "        dj_dw+=(f_wb-y[i])\n",
    "    dj_dw=dj_dw/m\n",
    "    dj_db=dj_db/m\n",
    "    return dj_dw,dj_db"
   ]
  },
  {
   "cell_type": "code",
   "execution_count": 8,
   "id": "76674989-29d7-403f-95b2-4ab669999a87",
   "metadata": {},
   "outputs": [],
   "source": [
    "def gradient_descent(x,y,w_in,b_in,alpha,num_iter):\n",
    "    w=w_in\n",
    "    b=b_in\n",
    "    j_cost=[]\n",
    "    j_iter=[]\n",
    "    for i in range(num_iter):\n",
    "        dj_dw,dj_db=compute_gradient(x,y,w,b)\n",
    "        w=(w-(alpha*dj_dw))\n",
    "        b=(b-(alpha*dj_db))\n",
    "        if i%1000==0 or i==num_iter-1:\n",
    "            temp_cost=compute_cost(x,y,w,b)\n",
    "            j_cost.append(temp_cost)\n",
    "            j_iter.append(i)\n",
    "    return w,b,j_cost,j_iter\n",
    "        "
   ]
  },
  {
   "cell_type": "code",
   "execution_count": 12,
   "id": "8512bf22-2db8-46cf-bffa-08c9ead31df1",
   "metadata": {},
   "outputs": [
    {
     "name": "stdout",
     "output_type": "stream",
     "text": [
      "(5,)\n",
      "(5,)\n",
      "769.9932105130987\n"
     ]
    },
    {
     "data": {
      "image/png": "[encoded data removed]",
      "text/plain": [
       "<Figure size 640x480 with 1 Axes>"
      ]
     },
     "metadata": {},
     "output_type": "display_data"
    }
   ],
   "source": [
    "x_train=np.array([1.0,3.0,5.0,2.0,2.4])\n",
    "y_train=np.array([100.0,300.0,500.0,200.0,240.0])\n",
    "print(x_train.shape)\n",
    "print(y_train.shape)\n",
    "w_in=0.0\n",
    "b_in=0.0\n",
    "iterations=10000\n",
    "alpha=0.0001\n",
    "w_f,b_f,j_cost,j_iter=gradient_descent(x_train,y_train,w_in,b_in,alpha,iterations)\n",
    "plt.plot(j_iter,j_cost)\n",
    "x=7.7\n",
    "print(predict(x,w_f,b_f))"
   ]
  },
  {
   "cell_type": "code",
   "execution_count": 5,
   "id": "04797400-8855-406f-bd7e-5088000d6b34",
   "metadata": {},
   "outputs": [],
   "source": [
    "def predict(x,w,b):\n",
    "    y_hat=w*x+b\n",
    "    return y_hat"
   ]
  },
  {
   "cell_type": "code",
   "execution_count": null,
   "id": "66b47bd7-28f0-43b2-a8c9-5a6a2e2b6be6",
   "metadata": {},
   "outputs": [],
   "source": []
  },
  {
   "cell_type": "code",
   "execution_count": null,
   "id": "d665bed1-04a3-4810-9544-14180d958f72",
   "metadata": {},
   "outputs": [],
   "source": []
  }
 ],
 "metadata": {
  "kernelspec": {
   "display_name": "Python 3 (ipykernel)",
   "language": "python",
   "name": "python3"
  },
  "language_info": {
   "codemirror_mode": {
    "name": "ipython",
    "version": 3
   },
   "file_extension": ".py",
   "mimetype": "text/x-python",
   "name": "python",
   "nbconvert_exporter": "python",
   "pygments_lexer": "ipython3",
   "version": "3.11.3"
  }
 },
 "nbformat": 4,
 "nbformat_minor": 5
}
